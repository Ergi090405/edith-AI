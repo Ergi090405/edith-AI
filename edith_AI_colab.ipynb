{
  "nbformat": 4,
  "nbformat_minor": 0,
  "metadata": {
    "colab": {
      "provenance": []
    },
    "kernelspec": {
      "name": "python3",
      "display_name": "Python 3"
    },
    "language_info": {
      "name": "python"
    }
  },
  "cells": [
    {
      "cell_type": "code",
      "execution_count": null,
      "metadata": {
        "id": "uEoJv829AIWR"
      },
      "outputs": [],
      "source": [
        "def edith_chat(user_input):\n",
        "    return f\"Edith menjawab: {user_input}\"\n",
        "\n",
        "edith_chat(\"Hai Edith, aku butuh bantuan skripsi!\")"
      ]
    }
  ]
}